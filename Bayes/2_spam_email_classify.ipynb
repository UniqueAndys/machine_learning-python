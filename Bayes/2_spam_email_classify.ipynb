{
 "cells": [
  {
   "cell_type": "markdown",
   "metadata": {},
   "source": [
    "# 2. 使用朴素贝叶斯过滤垃圾邮件"
   ]
  },
  {
   "cell_type": "code",
   "execution_count": 1,
   "metadata": {
    "collapsed": false
   },
   "outputs": [],
   "source": [
    "def createVocabList(dataset):\n",
    "    '''创建一个包含在所有文档中出现的不重复词的列表'''\n",
    "    # 创建一个空集\n",
    "    vocabSet = set([])\n",
    "    for document in dataset:\n",
    "        # | 集合求并集\n",
    "        vocabSet = vocabSet | set(document)\n",
    "    return list(vocabSet)\n",
    "\n",
    "def setOfWords2Vec(vocabList, inputSet):\n",
    "    '''\n",
    "    词集模型\n",
    "    输入：词汇表以及某个文档\n",
    "    输出：文档向量，向量中的数字代表词汇表中的单词在输入文档中出现的次数\n",
    "    '''\n",
    "    returnVec = [0]*len(vocabList)\n",
    "    for word in inputSet:\n",
    "        if word in vocabList:\n",
    "            returnVec[vocabList.index(word)] = 1\n",
    "        else:\n",
    "            print(\"the word: %s is not in my Vocabulary!\" % word)\n",
    "    return returnVec\n",
    "\n",
    "from numpy import *\n",
    "def trainNB0(trainMatrix, trainCategory):\n",
    "    numTrainDocs = len(trainMatrix)\n",
    "    numWords = len(trainMatrix[0])\n",
    "    pAbusive = sum(trainCategory)/float(numTrainDocs)\n",
    "    # 拉普拉斯修正\n",
    "    p0Num = ones(numWords); p1Num = ones(numWords)\n",
    "    p0Denom = 2.0; p1Denom = 2.0\n",
    "    for i in xrange(numTrainDocs):\n",
    "        if trainCategory[i] == 1:\n",
    "            p1Num += trainMatrix[i]\n",
    "            p1Denom += sum(trainMatrix[i])\n",
    "        else:\n",
    "            p0Num += trainMatrix[i]\n",
    "            p0Denom += sum(trainMatrix[i])\n",
    "    # 取log防止乘法下溢\n",
    "    p1Vect = log(p1Num / p1Denom)\n",
    "    p0Vect = log(p0Num / p0Denom)\n",
    "    return p0Vect, p1Vect, pAbusive\n",
    "\n",
    "def classifyNB(vec2Classify, p0Vec, p1Vec, pClass1):\n",
    "    '''pClass1 属于class1类别的概率'''\n",
    "    p1 = sum(vec2Classify * p1Vec) + log(pClass1)\n",
    "    p0 = sum(vec2Classify * p0Vec) + log(1-pClass1)\n",
    "    if p1 > p0:\n",
    "        return 1\n",
    "    else:\n",
    "        return 0"
   ]
  },
  {
   "cell_type": "code",
   "execution_count": 2,
   "metadata": {
    "collapsed": true
   },
   "outputs": [],
   "source": [
    "def textParse(bigString):\n",
    "    import re\n",
    "    # 正则表达式，分隔符是除单词、数字外的任意字符串\n",
    "    listOfTokens = re.split(r'\\W*', bigString)\n",
    "    # 过滤掉长度小于3的字符串，统一成小写形式\n",
    "    return [tok.lower() for tok in listOfTokens if len(tok)>2]"
   ]
  },
  {
   "cell_type": "code",
   "execution_count": 3,
   "metadata": {
    "collapsed": true
   },
   "outputs": [],
   "source": [
    "def spamTest():\n",
    "    docList = []; classList = []; fullText = []\n",
    "    for i in xrange(1, 26):\n",
    "        wordList = textParse(open('./email/spam/%d.txt' % i).read())\n",
    "        docList.append(wordList)\n",
    "        fullText.extend(wordList)\n",
    "        classList.append(1)\n",
    "        wordList = textParse(open('./email/ham/%d.txt' % i).read())\n",
    "        docList.append(wordList)\n",
    "        fullText.extend(wordList)\n",
    "        classList.append(0)\n",
    "    # 创建词列表\n",
    "    vocabList = createVocabList(docList)\n",
    "    trainingSet = range(50); testSet = []\n",
    "    # 抽取10个作为测试集，其余的作为训练集\n",
    "    for i in xrange(10):\n",
    "        randIndex = int(random.uniform(0, len(trainingSet)))\n",
    "        testSet.append(trainingSet[randIndex])\n",
    "        del(trainingSet[randIndex])\n",
    "    trainMat = []; trainClasses = []\n",
    "    for docIndex in trainingSet:\n",
    "        trainMat.append(setOfWords2Vec(vocabList, docList[docIndex]))\n",
    "        trainClasses.append(classList[docIndex])\n",
    "    p0V, p1V, pSpam = trainNB0(trainMat, trainClasses)\n",
    "    errorCount = 0\n",
    "    for docIndex in testSet:\n",
    "        wordVector = setOfWords2Vec(vocabList, docList[docIndex])\n",
    "        if classifyNB(wordVector, p0V, p1V, pSpam) != classList[docIndex]:\n",
    "            errorCount += 1\n",
    "    error_rate = float(errorCount)/len(testSet)\n",
    "    print(\"the error rate is: \", error_rate)\n",
    "    return error_rate"
   ]
  },
  {
   "cell_type": "code",
   "execution_count": 4,
   "metadata": {
    "collapsed": false
   },
   "outputs": [
    {
     "name": "stdout",
     "output_type": "stream",
     "text": [
      "('the error rate is: ', 0.0)\n",
      "('the error rate is: ', 0.0)\n",
      "('the error rate is: ', 0.1)\n",
      "('the error rate is: ', 0.0)\n",
      "('the error rate is: ', 0.0)\n",
      "('the error rate is: ', 0.0)\n",
      "('the error rate is: ', 0.1)\n",
      "('the error rate is: ', 0.1)\n",
      "('the error rate is: ', 0.1)\n",
      "('the error rate is: ', 0.1)\n",
      "('Sum, the error rate is: ', 0.05)\n"
     ]
    }
   ],
   "source": [
    "error = 0\n",
    "for i in xrange(10):\n",
    "    error += spamTest()\n",
    "print(\"Sum, the error rate is: \", error/10)"
   ]
  }
 ],
 "metadata": {
  "kernelspec": {
   "display_name": "Python 2",
   "language": "python",
   "name": "python2"
  },
  "language_info": {
   "codemirror_mode": {
    "name": "ipython",
    "version": 2
   },
   "file_extension": ".py",
   "mimetype": "text/x-python",
   "name": "python",
   "nbconvert_exporter": "python",
   "pygments_lexer": "ipython2",
   "version": "2.7.12"
  }
 },
 "nbformat": 4,
 "nbformat_minor": 0
}
