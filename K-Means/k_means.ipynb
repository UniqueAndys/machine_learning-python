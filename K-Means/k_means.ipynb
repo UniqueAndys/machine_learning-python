{
 "cells": [
  {
   "cell_type": "markdown",
   "metadata": {},
   "source": [
    "# k-均值聚类算法"
   ]
  },
  {
   "cell_type": "code",
   "execution_count": 5,
   "metadata": {
    "collapsed": false
   },
   "outputs": [],
   "source": [
    "from numpy import *\n",
    "\n",
    "def loadDataSet(fileName):\n",
    "    '''导入文件'''\n",
    "    dataMat = []\n",
    "    with open(fileName) as fr:\n",
    "        for line in fr.readlines():\n",
    "            curLine = line.strip().split('\\t')\n",
    "            fltLine = map(float, curLine)\n",
    "            dataMat.append(fltLine)\n",
    "    return dataMat\n",
    "\n",
    "def distEclud(vecA, vecB):\n",
    "    '''欧几里得距离'''\n",
    "    return sqrt(sum(power(vecA - vecB, 2)))\n",
    "\n",
    "def randCent(dataSet, k):\n",
    "    '''随机生成范围内的均值向量'''\n",
    "    n = shape(dataSet)[1]\n",
    "    centroids = mat(zeros((k, n)))\n",
    "    for j in xrange(n):\n",
    "        minJ = min(dataSet[:, j])\n",
    "        rangeJ = float(max(dataSet[:, j]) - minJ)\n",
    "        centroids[:, j] = minJ + rangeJ*random.rand(k, 1)\n",
    "    return centroids"
   ]
  },
  {
   "cell_type": "code",
   "execution_count": 8,
   "metadata": {
    "collapsed": false
   },
   "outputs": [],
   "source": [
    "datMat = mat(loadDataSet('./data/testSet.txt'))"
   ]
  },
  {
   "cell_type": "markdown",
   "metadata": {},
   "source": [
    "**输入**：样本集 $D=\\{x_1,x_2,\\dots,x_n\\}$; 聚类簇数 $k$ .  \n",
    "**过程**：  \n",
    "从 $D$ 中随机选择 $k$ 个样本作为初始均值向量 $\\{\\mu_1,\\mu_2,\\dots,\\mu_n\\}$  \n",
    "**repeat**  \n",
    "&emsp; 令 $C_i = \\emptyset (1\\le i\\le k)$  \n",
    "&emsp; **for** $j = 1, 2, \\dots, m$ **do**  \n",
    "&emsp;&emsp; 计算样本 $\\mathbf{x_j}$ 与各均值向量 $\\mathbf{\\mu_i}$ $(1 \\le i \\le k)$的距离：\n",
    "             $d_{ji} = \\Vert \\mathbf{x_j} - \\mathbf{\\mu_i} \\Vert^2_2$ ；  \n",
    "&emsp;&emsp; 根据距离最近的均值向量确定 $\\mathbf{x_j}$ 的簇标记：\n",
    "             $\\lambda_j = argmin_{i\\in \\{ 1, 2, \\dots, k \\}}d_{ji} $  \n",
    "&emsp;&emsp; 将样本 $\\mathbf{x_j}$ 划入相应的簇：\n",
    "             $ C_{\\lambda_j} =  C_{\\lambda_j} \\cup \\{ \\mathbf{x_j} \\} $  \n",
    "&emsp; **end for**  \n",
    "&emsp; **for** $i = 1, 2, \\dots, k$ **do**  \n",
    "&emsp;&emsp; 计算新均值向量： $ \\mu^{'}_i = \\frac{1}{\\vert C_i \\vert}\\sum_{\\mathbf{x}\\in C_i}\\mathbf{x} $  \n",
    "&emsp;&emsp; **if** $\\mathbf{\\mu_i^{'} \\neq \\mathbf{\\mu_i}}$ **then**  \n",
    "&emsp;&emsp;&emsp; 将当前的均值向量 $\\mathbf{\\mu_i}$ 更新为 $\\mathbf{\\mu_i^{'}}$  \n",
    "&emsp;&emsp; **else**  \n",
    "&emsp;&emsp;&emsp; 保持当前均值向量不变  \n",
    "&emsp;&emsp; **end if**  \n",
    "&emsp; **end for**  \n",
    "**util** 当前均值向量均未更新  \n",
    "**输出**：簇划分 $ C = \\{ C_1, C_2, \\dots, C_k\\} $"
   ]
  },
  {
   "cell_type": "code",
   "execution_count": 11,
   "metadata": {
    "collapsed": true
   },
   "outputs": [],
   "source": [
    "def kMeans(dataSet, k, distMeas=distEclud, createCent=randCent):\n",
    "    m = shape(dataSet)[0]\n",
    "    # 保存每个样本所属的簇及到中心点的距离\n",
    "    clusterAssment = mat(zeros((m, 2)))\n",
    "    # 各均值向量\n",
    "    centroids = createCent(dataSet, k)\n",
    "    clusterChanged = True\n",
    "    while clusterChanged:\n",
    "        clusterChanged = False\n",
    "        for i in xrange(m):\n",
    "            minDist = inf; minIndex = -1\n",
    "            for j in xrange(k):\n",
    "                distJI = distMeas(centroids[j,:], dataSet[i,:])\n",
    "                if distJI < minDist:\n",
    "                    minDist = distJI; minIndex = j\n",
    "            if clusterAssment[i, 0] != minIndex:\n",
    "                # 若有改变，则继续循环\n",
    "                clusterChanged = True\n",
    "            clusterAssment[i,:] = minIndex, minDist**2\n",
    "        print(centroids)\n",
    "        for cent in xrange(k):\n",
    "            # 计算新的均值向量\n",
    "            ptsInClust = dataSet[nonzero(clusterAssment[:,0].A == cent)[0]]\n",
    "            centroids[cent, :] = mean(ptsInClust, axis=0)\n",
    "    return centroids, clusterAssment"
   ]
  },
  {
   "cell_type": "code",
   "execution_count": 13,
   "metadata": {
    "collapsed": false
   },
   "outputs": [
    {
     "name": "stdout",
     "output_type": "stream",
     "text": [
      "[[-0.42895319  2.42895702]\n",
      " [-4.92526135 -2.87653537]\n",
      " [-3.19766893  4.45393477]\n",
      " [ 1.34722789 -0.39182675]]\n",
      "[[ 0.78702448  3.24838505]\n",
      " [-3.53973889 -2.89384326]\n",
      " [-3.00520133  2.93274117]\n",
      " [ 2.803603   -1.57435221]]\n",
      "[[ 2.225975    3.17026943]\n",
      " [-3.38237045 -2.9473363 ]\n",
      " [-2.64677572  2.78993217]\n",
      " [ 2.8692781  -2.54779119]]\n",
      "[[ 2.6265299   3.10868015]\n",
      " [-3.38237045 -2.9473363 ]\n",
      " [-2.46154315  2.78737555]\n",
      " [ 2.80293085 -2.7315146 ]]\n"
     ]
    }
   ],
   "source": [
    "myCentroids, clustAssing = kMeans(datMat, 4)\n",
    "#print(myCentroids, clustAssing)"
   ]
  }
 ],
 "metadata": {
  "kernelspec": {
   "display_name": "Python 2",
   "language": "python",
   "name": "python2"
  },
  "language_info": {
   "codemirror_mode": {
    "name": "ipython",
    "version": 2
   },
   "file_extension": ".py",
   "mimetype": "text/x-python",
   "name": "python",
   "nbconvert_exporter": "python",
   "pygments_lexer": "ipython2",
   "version": "2.7.12"
  }
 },
 "nbformat": 4,
 "nbformat_minor": 0
}
