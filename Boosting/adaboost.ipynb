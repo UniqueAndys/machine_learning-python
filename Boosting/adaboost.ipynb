{
 "cells": [
  {
   "cell_type": "markdown",
   "metadata": {},
   "source": [
    "# 利用AdaBoost集成方法提高分类性能"
   ]
  },
  {
   "cell_type": "code",
   "execution_count": 1,
   "metadata": {
    "collapsed": true
   },
   "outputs": [],
   "source": [
    "from numpy import *\n",
    "\n",
    "def loadSimpleData():\n",
    "    '''一个简单数据集'''\n",
    "    datMat = matrix([[1. , 2.1],\n",
    "                     [1.5, 1.6],\n",
    "                     [1.3, 1. ],\n",
    "                     [1. , 1. ],\n",
    "                     [2. , 1. ]])\n",
    "    classLabels = [1.0, 1.0, -1.0, -1.0, 1.0]\n",
    "    return datMat, classLabels\n",
    "\n",
    "datMat, classLabels = loadSimpleData()"
   ]
  },
  {
   "cell_type": "markdown",
   "metadata": {},
   "source": [
    "## 单层决策树生成函数"
   ]
  },
  {
   "cell_type": "code",
   "execution_count": 2,
   "metadata": {
    "collapsed": true
   },
   "outputs": [],
   "source": [
    "def stumpClassify(dataMatrix, dimen, threshVal, threshIneq):\n",
    "    '''对dataMatrix进行分类，dimen维数，threshVal阈值，threshIneq基准'''\n",
    "    retArray = ones((shape(dataMatrix)[0], 1))\n",
    "    if threshIneq == 'lt':\n",
    "        retArray[dataMatrix[:, dimen] <= threshVal] = -1.0\n",
    "    else:\n",
    "        retArray[dataMatrix[:, dimen] > threshVal] = -1.0\n",
    "    return retArray\n",
    "\n",
    "def buildStump(dataArr, classLabels, D):\n",
    "    '''构建一个简单的单层决策树'''\n",
    "    dataMatrix = mat(dataArr); labelMat = mat(classLabels).T\n",
    "    m, n = shape(dataMatrix)\n",
    "    numSteps = 10.0; bestStump = {}; bestClassEst = mat(zeros((m, 1)))\n",
    "    minError = inf\n",
    "    for i in xrange(n):\n",
    "        # 不同特征\n",
    "        rangeMin = dataMatrix[:,i].min(); rangeMax = dataMatrix[:,i].max();\n",
    "        stepSize = (rangeMax - rangeMin) / numSteps\n",
    "        for j in xrange(-1, int(numSteps)+1):\n",
    "            # 不同阈值\n",
    "            for inequal in ['lt', 'gt']:\n",
    "                # 不同基准\n",
    "                threshVal = (rangeMin + float(j) * stepSize)\n",
    "                predictedVals = stumpClassify(dataMatrix, i, threshVal, inequal)\n",
    "                errArr = mat(ones((m, 1)))\n",
    "                errArr[predictedVals == labelMat] = 0\n",
    "                weightedError = D.T * errArr\n",
    "                #print(\"split: dim %d, thresh %.2f, ineqal: %s, weighted error: %.3f\" %\\\n",
    "                #      (i, threshVal, inequal, weightedError))\n",
    "                if weightedError < minError:\n",
    "                    minError = weightedError\n",
    "                    bestClassEst = predictedVals.copy()\n",
    "                    bestStump['dim'] = i\n",
    "                    bestStump['thresh'] = threshVal\n",
    "                    bestStump['ineq'] = inequal\n",
    "    return bestStump, minError, bestClassEst"
   ]
  },
  {
   "cell_type": "code",
   "execution_count": 3,
   "metadata": {
    "collapsed": false
   },
   "outputs": [
    {
     "name": "stdout",
     "output_type": "stream",
     "text": [
      "({'dim': 0, 'ineq': 'lt', 'thresh': 1.3}, matrix([[ 0.2]]), array([[-1.],\n",
      "       [ 1.],\n",
      "       [-1.],\n",
      "       [-1.],\n",
      "       [ 1.]]))\n"
     ]
    }
   ],
   "source": [
    "D = mat(ones((5, 1))/5)\n",
    "bestStump, minError, bestClassEst = buildStump(datMat, classLabels, D)\n",
    "print(bestStump, minError, bestClassEst)"
   ]
  },
  {
   "cell_type": "markdown",
   "metadata": {},
   "source": [
    "## AdaBoost算法\n",
    "对每次迭代：\n",
    "\n",
    "    利用buildStump()函数找到最佳的单层决策树\n",
    "    计算alpha\n",
    "    将单层最佳决策树加入单层决策树数组\n",
    "    计算新的权重向量D\n",
    "    更新累计类别估计值\n",
    "    如果错误率等于0.0，则退出循环"
   ]
  },
  {
   "cell_type": "code",
   "execution_count": 4,
   "metadata": {
    "collapsed": true
   },
   "outputs": [],
   "source": [
    "def adaBoostTrainDS(dataArr, classLabels, numIt=40):\n",
    "    weakClassArr = []\n",
    "    m = shape(dataArr)[0]\n",
    "    D = mat(ones((m,1))/m)\n",
    "    aggClassEst = mat(zeros((m,1)))\n",
    "    for i in xrange(numIt):\n",
    "        # 利用buildStump()函数找到最佳的单层决策树\n",
    "        bestStump, error, classEst = buildStump(dataArr, classLabels, D)\n",
    "        print(\"D:\", D.T)\n",
    "        # 计算alpha\n",
    "        alpha = float(0.5*log((1.0-error)/max(error,1e-16)))\n",
    "        # 将单层最佳决策树加入单层决策树数组\n",
    "        bestStump['alpha'] = alpha\n",
    "        weakClassArr.append(bestStump)\n",
    "        print(\"ClassEst: \", classEst.T)\n",
    "        # 计算新的权重向量D\n",
    "        expon = multiply(-1*alpha*mat(classLabels).T, classEst)\n",
    "        D = multiply(D, exp(expon))\n",
    "        D = D / D.sum()\n",
    "        # 更新累计类别估计值\n",
    "        aggClassEst += alpha*classEst\n",
    "        print(\"aggClassEst: \", aggClassEst.T)\n",
    "        aggErrors = multiply(sign(aggClassEst) != mat(classLabels).T, ones((m,1)))\n",
    "        errorRate = aggErrors.sum()/m\n",
    "        print(\"total error: \", errorRate, \"\\n\")\n",
    "        # 如果错误率等于0.0，则退出循环\n",
    "        if errorRate == 0.0: break\n",
    "    return weakClassArr"
   ]
  },
  {
   "cell_type": "code",
   "execution_count": 5,
   "metadata": {
    "collapsed": false
   },
   "outputs": [
    {
     "name": "stdout",
     "output_type": "stream",
     "text": [
      "('D:', matrix([[ 0.2,  0.2,  0.2,  0.2,  0.2]]))\n",
      "('ClassEst: ', array([[-1.,  1., -1., -1.,  1.]]))\n",
      "('aggClassEst: ', matrix([[-0.69314718,  0.69314718, -0.69314718, -0.69314718,  0.69314718]]))\n",
      "('total error: ', 0.20000000000000001, '\\n')\n",
      "('D:', matrix([[ 0.5  ,  0.125,  0.125,  0.125,  0.125]]))\n",
      "('ClassEst: ', array([[ 1.,  1., -1., -1., -1.]]))\n",
      "('aggClassEst: ', matrix([[ 0.27980789,  1.66610226, -1.66610226, -1.66610226, -0.27980789]]))\n",
      "('total error: ', 0.20000000000000001, '\\n')\n",
      "('D:', matrix([[ 0.28571429,  0.07142857,  0.07142857,  0.07142857,  0.5       ]]))\n",
      "('ClassEst: ', array([[ 1.,  1.,  1.,  1.,  1.]]))\n",
      "('aggClassEst: ', matrix([[ 1.17568763,  2.56198199, -0.77022252, -0.77022252,  0.61607184]]))\n",
      "('total error: ', 0.0, '\\n')\n",
      "[{'dim': 0, 'ineq': 'lt', 'thresh': 1.3, 'alpha': 0.6931471805599453}, {'dim': 1, 'ineq': 'lt', 'thresh': 1.0, 'alpha': 0.9729550745276565}, {'dim': 0, 'ineq': 'lt', 'thresh': 0.90000000000000002, 'alpha': 0.8958797346140273}]\n"
     ]
    }
   ],
   "source": [
    "classifierArray = adaBoostTrainDS(datMat, classLabels, 9)\n",
    "print(classifierArray)"
   ]
  },
  {
   "cell_type": "markdown",
   "metadata": {},
   "source": [
    "## 测试算法"
   ]
  },
  {
   "cell_type": "code",
   "execution_count": 6,
   "metadata": {
    "collapsed": true
   },
   "outputs": [],
   "source": [
    "def adaClassify(datToClass, classifierArr):\n",
    "    '''利用训练出的多个弱分类器进行分类'''\n",
    "    dataMatrix = mat(datToClass)\n",
    "    m = shape(dataMatrix)[0]\n",
    "    aggClassEst = mat(zeros((m, 1)))\n",
    "    for i in xrange(len(classifierArr)):\n",
    "        classEst = stumpClassify(dataMatrix, classifierArr[i]['dim'],\n",
    "                                 classifierArr[i]['thresh'], classifierArr[i]['ineq'])\n",
    "        aggClassEst += classifierArr[i]['alpha']*classEst\n",
    "        print(aggClassEst)\n",
    "    return sign(aggClassEst)"
   ]
  },
  {
   "cell_type": "code",
   "execution_count": 7,
   "metadata": {
    "collapsed": false
   },
   "outputs": [
    {
     "name": "stdout",
     "output_type": "stream",
     "text": [
      "[[ 0.69314718]\n",
      " [-0.69314718]]\n",
      "[[ 1.66610226]\n",
      " [-1.66610226]]\n",
      "[[ 2.56198199]\n",
      " [-2.56198199]]\n",
      "[[ 1.]\n",
      " [-1.]]\n"
     ]
    }
   ],
   "source": [
    "print(adaClassify([[5,5],[0,0]], classifierArray))"
   ]
  }
 ],
 "metadata": {
  "kernelspec": {
   "display_name": "Python 2",
   "language": "python",
   "name": "python2"
  },
  "language_info": {
   "codemirror_mode": {
    "name": "ipython",
    "version": 2
   },
   "file_extension": ".py",
   "mimetype": "text/x-python",
   "name": "python",
   "nbconvert_exporter": "python",
   "pygments_lexer": "ipython2",
   "version": "2.7.12"
  }
 },
 "nbformat": 4,
 "nbformat_minor": 0
}
